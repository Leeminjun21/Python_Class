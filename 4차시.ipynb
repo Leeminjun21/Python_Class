{
  "nbformat": 4,
  "nbformat_minor": 0,
  "metadata": {
    "colab": {
      "provenance": [],
      "authorship_tag": "ABX9TyMkPMlfGf+sT1nh5pU808pM",
      "include_colab_link": true
    },
    "kernelspec": {
      "name": "python3",
      "display_name": "Python 3"
    },
    "language_info": {
      "name": "python"
    }
  },
  "cells": [
    {
      "cell_type": "markdown",
      "metadata": {
        "id": "view-in-github",
        "colab_type": "text"
      },
      "source": [
        "<a href=\"https://colab.research.google.com/github/Leeminjun21/Python_Class/blob/main/4%EC%B0%A8%EC%8B%9C.ipynb\" target=\"_parent\"><img src=\"https://colab.research.google.com/assets/colab-badge.svg\" alt=\"Open In Colab\"/></a>"
      ]
    },
    {
      "cell_type": "code",
      "execution_count": 5,
      "metadata": {
        "colab": {
          "base_uri": "https://localhost:8080/"
        },
        "id": "o86bcfQzp4f5",
        "outputId": "5029dc1a-13ae-4e3e-dc72-49608488d032"
      },
      "outputs": [
        {
          "output_type": "stream",
          "name": "stdout",
          "text": [
            "1.3333333333333333\n",
            "0.5\n",
            "2.0\n",
            "2\n",
            "1\n",
            "343\n"
          ]
        }
      ],
      "source": [
        "# 1번\n",
        "print(4 / 3)\n",
        "\n",
        "print(1 / 2)\n",
        "\n",
        "print(4 / 2)\n",
        "\n",
        "print(7 // 3)\n",
        "\n",
        "print(7 % 3)\n",
        "\n",
        "print(7 ** 3)"
      ]
    },
    {
      "cell_type": "code",
      "source": [
        "# 1-2번\n",
        "quotient, remainder = divmod(5, 2)\n",
        "print(quotient, remainder)"
      ],
      "metadata": {
        "colab": {
          "base_uri": "https://localhost:8080/"
        },
        "id": "QjMW1RO11B7T",
        "outputId": "13295468-b058-4afc-e57f-cf9059acebef"
      },
      "execution_count": 10,
      "outputs": [
        {
          "output_type": "stream",
          "name": "stdout",
          "text": [
            "2 1\n"
          ]
        }
      ]
    },
    {
      "cell_type": "code",
      "source": [
        "# 2번\n",
        "i = 3\n",
        "i+=3\n",
        "print(i)\n",
        "i-=3\n",
        "print(i)\n",
        "i *=2\n",
        "print(i)\n",
        "i /=2\n",
        "print(int(i))\n",
        "i%=2\n",
        "print(i)"
      ],
      "metadata": {
        "colab": {
          "base_uri": "https://localhost:8080/"
        },
        "id": "uFVAfCk65jOL",
        "outputId": "58777659-87b7-4c2c-9c39-3c6367efc791"
      },
      "execution_count": 22,
      "outputs": [
        {
          "output_type": "stream",
          "name": "stdout",
          "text": [
            "6\n",
            "3\n",
            "6\n",
            "3\n",
            "1.0\n"
          ]
        }
      ]
    },
    {
      "cell_type": "code",
      "source": [
        "# 3번\n",
        "a=10\n",
        "\n",
        "b=3\n",
        "\n",
        "print(\"10==3 =>\",a==b)\n",
        "\n",
        "print(\"10!=3 =>\",a!=b)\n",
        "\n",
        "print(\"10>3 =>\",a>b)\n",
        "\n",
        "print(\"10>=3 =>\",a>=b)\n",
        "\n",
        "print(\"10<3 =>\",a<b)\n",
        "\n",
        "print(\"10<=3 =>\",a<=b)\n",
        "\n",
        "print()"
      ],
      "metadata": {
        "colab": {
          "base_uri": "https://localhost:8080/"
        },
        "id": "8S7bg_UU9iyX",
        "outputId": "5366f67c-a2aa-4f25-9756-e53461cf5827"
      },
      "execution_count": 24,
      "outputs": [
        {
          "output_type": "stream",
          "name": "stdout",
          "text": [
            "10==3 => False\n",
            "10!=3 => True\n",
            "10>3 => True\n",
            "10>=3 => True\n",
            "10<3 => False\n",
            "10<=3 => False\n",
            "\n"
          ]
        }
      ]
    },
    {
      "cell_type": "code",
      "source": [
        "# 4번\n",
        "a = 13\n",
        "print(bin(a))\n",
        "print(hex(a))\n",
        "\n",
        "int('1101', 2)\n"
      ],
      "metadata": {
        "colab": {
          "base_uri": "https://localhost:8080/"
        },
        "id": "xBYuUNrz-clp",
        "outputId": "c743069e-7149-46a9-df6f-375649fcdf37"
      },
      "execution_count": 26,
      "outputs": [
        {
          "output_type": "stream",
          "name": "stdout",
          "text": [
            "0b1101\n",
            "0xd\n"
          ]
        },
        {
          "output_type": "execute_result",
          "data": {
            "text/plain": [
              "13"
            ]
          },
          "metadata": {},
          "execution_count": 26
        }
      ]
    },
    {
      "cell_type": "code",
      "source": [
        "# 5번\n",
        "a = 12\n",
        "b= 8\n",
        "\n",
        "print(bin(a))\n",
        "print(bin(b))\n",
        "print(bin(a&b))\n",
        "print(' ')\n",
        "print(a&b)\n",
        "\n",
        "print(' ')\n",
        "print(bin(a))\n",
        "print(bin(b))\n",
        "print(bin(a|b))\n",
        "print(' ')\n",
        "print(a|b)\n",
        "\n",
        "print(' ')\n",
        "print(bin(a))\n",
        "print(bin(b))\n",
        "print(bin(a^b))\n",
        "print(' ')\n",
        "print(a^b)\n",
        "\n",
        "print(' ')\n",
        "print(bin(a))\n",
        "print(bin(~a))"
      ],
      "metadata": {
        "colab": {
          "base_uri": "https://localhost:8080/"
        },
        "id": "580lC0ye_WQB",
        "outputId": "6d08e158-978d-4431-f74b-02997e3ccbc8"
      },
      "execution_count": 35,
      "outputs": [
        {
          "output_type": "stream",
          "name": "stdout",
          "text": [
            "0b1100\n",
            "0b1000\n",
            "0b1000\n",
            " \n",
            "8\n",
            " \n",
            "0b1100\n",
            "0b1000\n",
            "0b1100\n",
            " \n",
            "12\n",
            " \n",
            "0b1100\n",
            "0b1000\n",
            "0b100\n",
            " \n",
            "4\n",
            " \n",
            "0b1100\n",
            "-0b1101\n"
          ]
        }
      ]
    }
  ]
}