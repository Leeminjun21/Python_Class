{
  "nbformat": 4,
  "nbformat_minor": 0,
  "metadata": {
    "colab": {
      "provenance": [],
      "authorship_tag": "ABX9TyP8I+qtpWF7xHrgGto0WGse",
      "include_colab_link": true
    },
    "kernelspec": {
      "name": "python3",
      "display_name": "Python 3"
    },
    "language_info": {
      "name": "python"
    }
  },
  "cells": [
    {
      "cell_type": "markdown",
      "metadata": {
        "id": "view-in-github",
        "colab_type": "text"
      },
      "source": [
        "<a href=\"https://colab.research.google.com/github/Leeminjun21/Python_Class/blob/main/2%EC%9D%BC%EC%B0%A8.ipynb\" target=\"_parent\"><img src=\"https://colab.research.google.com/assets/colab-badge.svg\" alt=\"Open In Colab\"/></a>"
      ]
    },
    {
      "cell_type": "code",
      "source": [
        "watch = 100000\n",
        "a= 'pig'\n",
        "b= 'dad'\n",
        "# 이민준 예제입니다\n",
        "print(a)\n",
        "print(b)\n",
        "print(watch)\n",
        "print(a+b)\n",
        "print(a+' '+b)"
      ],
      "metadata": {
        "colab": {
          "base_uri": "https://localhost:8080/"
        },
        "id": "rX_G9QfGAwyM",
        "outputId": "5f1cfe61-77c4-4be2-b54f-e28dd114bce4"
      },
      "execution_count": 8,
      "outputs": [
        {
          "output_type": "stream",
          "name": "stdout",
          "text": [
            "pig\n",
            "dad\n",
            "100000\n",
            "pigdad\n",
            "pig dad\n"
          ]
        }
      ]
    },
    {
      "cell_type": "code",
      "source": [
        "aa =1\n",
        "bb = 100\n",
        "# 이민준 예제입니다\n",
        "aa,bb=bb,aa\n",
        "print(aa)\n",
        "print(bb)\n",
        "\n"
      ],
      "metadata": {
        "colab": {
          "base_uri": "https://localhost:8080/"
        },
        "id": "Fr446cBiBLvp",
        "outputId": "408549b5-7515-4248-f77d-4f1c42fd94d5"
      },
      "execution_count": 14,
      "outputs": [
        {
          "output_type": "stream",
          "name": "stdout",
          "text": [
            "100\n",
            "1\n"
          ]
        }
      ]
    },
    {
      "cell_type": "code",
      "source": [
        "a1 = [10,20,30]\n",
        "b1 = a1\n",
        "a1[0] = 200 # 이민준 예제입니다\n",
        "print(b1)\n",
        "\n"
      ],
      "metadata": {
        "colab": {
          "base_uri": "https://localhost:8080/"
        },
        "id": "FJObxlOcE6DS",
        "outputId": "c2a7f4b7-e14a-4fdc-89fa-d4d19248dbf0"
      },
      "execution_count": 17,
      "outputs": [
        {
          "output_type": "stream",
          "name": "stdout",
          "text": [
            "[200, 20, 30]\n"
          ]
        }
      ]
    },
    {
      "cell_type": "code",
      "source": [
        "# print 사용 예제입니다.\n",
        "\n",
        "print(\"Hello World!\")\n",
        "print('Hello World!')\n",
        "print(1)\n",
        "print(\"1\")"
      ],
      "metadata": {
        "colab": {
          "base_uri": "https://localhost:8080/"
        },
        "id": "H1n4j1PvFdlr",
        "outputId": "0e0b7dcc-9a04-492f-95e1-712c59a39ca7"
      },
      "execution_count": 18,
      "outputs": [
        {
          "output_type": "stream",
          "name": "stdout",
          "text": [
            "Hello World!\n",
            "Hello World!\n",
            "1\n",
            "1\n"
          ]
        }
      ]
    },
    {
      "cell_type": "code",
      "source": [
        "c = 1\n",
        "print(\"c=\"+str(c))\n",
        "print(\"c=\",c)\n",
        "print(\"c={}\".format(c))"
      ],
      "metadata": {
        "colab": {
          "base_uri": "https://localhost:8080/"
        },
        "id": "-BPzGMlpGL40",
        "outputId": "17428d1a-2d0a-4812-ce0e-db05ee20353f"
      },
      "execution_count": 24,
      "outputs": [
        {
          "output_type": "stream",
          "name": "stdout",
          "text": [
            "c=1\n",
            "c= 1\n",
            "c=1\n"
          ]
        }
      ]
    },
    {
      "cell_type": "code",
      "source": [
        " A = [10,20,30]\n",
        " B = 1\n",
        " C = 2                 # 이민준 예제입니다\n",
        " print(A)\n",
        " print(\"A={}\".format(A))\n",
        " print(\"B={}\".format(B))\n",
        " print(\"A={}, B={}, C={}\".format(A[0], B, C))"
      ],
      "metadata": {
        "colab": {
          "base_uri": "https://localhost:8080/"
        },
        "id": "Z5YiOPWWHrgZ",
        "outputId": "25321b7d-e41b-403b-9223-cf823f6dc9c7"
      },
      "execution_count": 27,
      "outputs": [
        {
          "output_type": "stream",
          "name": "stdout",
          "text": [
            "[10, 20, 30]\n",
            "A=[10, 20, 30]\n",
            "B=1\n",
            "A=10, B=1, C=2\n"
          ]
        }
      ]
    }
  ]
}