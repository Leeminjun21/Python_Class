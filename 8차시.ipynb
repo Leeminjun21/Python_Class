{
  "nbformat": 4,
  "nbformat_minor": 0,
  "metadata": {
    "colab": {
      "provenance": [],
      "authorship_tag": "ABX9TyPix6wY9IXp+jmQDcS5xE3+",
      "include_colab_link": true
    },
    "kernelspec": {
      "name": "python3",
      "display_name": "Python 3"
    },
    "language_info": {
      "name": "python"
    }
  },
  "cells": [
    {
      "cell_type": "markdown",
      "metadata": {
        "id": "view-in-github",
        "colab_type": "text"
      },
      "source": [
        "<a href=\"https://colab.research.google.com/github/Leeminjun21/Python_Class/blob/main/8%EC%B0%A8%EC%8B%9C.ipynb\" target=\"_parent\"><img src=\"https://colab.research.google.com/assets/colab-badge.svg\" alt=\"Open In Colab\"/></a>"
      ]
    },
    {
      "cell_type": "code",
      "execution_count": 2,
      "metadata": {
        "id": "3BgUxilVXPB-",
        "outputId": "a7e80392-40dc-4118-f391-27183fb188e7",
        "colab": {
          "base_uri": "https://localhost:8080/"
        }
      },
      "outputs": [
        {
          "output_type": "stream",
          "name": "stdout",
          "text": [
            "True\n",
            "True\n",
            "False\n",
            "False\n",
            "True\n",
            "True\n"
          ]
        }
      ],
      "source": [
        "text1 = \"네이스123\"\n",
        "text2 = \"1231231\"\n",
        "text3 = \"!@#\"\n",
        "text4 = \"!#1234\"\n",
        "text5 = \"nice\"\n",
        "text6 = \"nicew1234\"\n",
        "print(text1.isalnum())\n",
        "print(text2.isalnum())\n",
        "print(text3.isalnum())\n",
        "print(text4.isalnum())\n",
        "print(text5.isalnum())\n",
        "print(text6.isalnum())\n"
      ]
    },
    {
      "cell_type": "code",
      "source": [
        "text = \"!#@#!@$!!@%@%!@@$231@3131이!!#@!네!@스$\"\n",
        "text1 = \"네이스\"\n",
        "text2 = \"123123\"\n",
        "text3 = \"!@#!\"\n",
        "check = \"\"\n",
        "print(text1.isalpha())\n",
        "print(text2.isalpha())\n",
        "print(text3.isalpha())\n",
        "for i in text:\n",
        "    if i.isalpha():\n",
        "        check += i\n",
        "print(check)"
      ],
      "metadata": {
        "colab": {
          "base_uri": "https://localhost:8080/"
        },
        "id": "fclMKVgdAitv",
        "outputId": "ee514235-2372-4ee0-e819-f5517da96e80"
      },
      "execution_count": 5,
      "outputs": [
        {
          "output_type": "stream",
          "name": "stdout",
          "text": [
            "True\n",
            "False\n",
            "False\n",
            "이네스\n"
          ]
        }
      ]
    },
    {
      "cell_type": "code",
      "source": [
        "a = \"BlockDMask\"\n",
        "b = \"1234Blog\"\n",
        "c = \"1231231\"\n",
        "d = \"-234\"\n",
        "e = \"1.23\"\n",
        "f = \"3\"\n",
        "g = '2/3'\n",
        "h = \"0\"\n",
        "print(f\"'{a}' .isdigit() : {str.isdigit(a)}\")\n",
        "print(f\"'{b}' .isdigit() : {str.isdigit(b)}\")\n",
        "print(f\"'{c}' .isdigit() : {str.isdigit(c)}\")\n",
        "print(f\"'{d}' .isdigit() : {str.isdigit(d)}\")\n",
        "print(f\"'{e}' .isdigit() : {str.isdigit(e)}\")\n"
      ],
      "metadata": {
        "colab": {
          "base_uri": "https://localhost:8080/"
        },
        "id": "l2ruxKQmDV5F",
        "outputId": "bc0855c8-706b-402a-8f2d-0cd2de3b06a5"
      },
      "execution_count": 7,
      "outputs": [
        {
          "output_type": "stream",
          "name": "stdout",
          "text": [
            "'BlockDMask' .isdigit() : False\n",
            "'1234Blog' .isdigit() : False\n",
            "'1231231' .isdigit() : True\n",
            "'-234' .isdigit() : False\n",
            "'1.23' .isdigit() : False\n"
          ]
        }
      ]
    },
    {
      "cell_type": "code",
      "source": [
        "a = '123456789'\n",
        "print(a.isdigit())\n",
        "print(a.isdecimal())\n",
        "print(a.isnumeric())\n",
        "print('\\n\\n')\n",
        "x ='3'\n",
        "print(x)\n",
        "print(x.isdigit())\n",
        "# True\n",
        "print(x.isdecimal())\n",
        "# False\n",
        "print(x.isnumeric())"
      ],
      "metadata": {
        "colab": {
          "base_uri": "https://localhost:8080/"
        },
        "id": "jfZYY7ryFOzb",
        "outputId": "cb7e0046-4d1c-4931-e1d0-780be2de6ce3"
      },
      "execution_count": 14,
      "outputs": [
        {
          "output_type": "stream",
          "name": "stdout",
          "text": [
            "True\n",
            "True\n",
            "True\n",
            "\n",
            "\n",
            "\n",
            "3\n",
            "True\n",
            "True\n",
            "True\n"
          ]
        }
      ]
    },
    {
      "cell_type": "code",
      "source": [
        "a = \"I Love Python\"\n",
        "\n",
        "print(a.islower())\n",
        "print(a.islower())\n",
        "print(a.upper())\n",
        "print(a.lower())\n",
        "\n",
        "print('\\n\\n')\n",
        "\n",
        "str = \"This is string example...wow!!!\"\n",
        "print(str.islower())\n",
        "print(str.upper())\n",
        "\n",
        "str = \"this is string example...wow!!!\"\n",
        "print(str.islower())"
      ],
      "metadata": {
        "colab": {
          "base_uri": "https://localhost:8080/"
        },
        "id": "a92yWamVFeFw",
        "outputId": "d9c1e96c-3837-485c-8343-4d722fc2197d"
      },
      "execution_count": 20,
      "outputs": [
        {
          "output_type": "stream",
          "name": "stdout",
          "text": [
            "False\n",
            "False\n",
            "I LOVE PYTHON\n",
            "i love python\n",
            "\n",
            "\n",
            "\n",
            "False\n",
            "THIS IS STRING EXAMPLE...WOW!!!\n",
            "True\n"
          ]
        }
      ]
    },
    {
      "cell_type": "code",
      "source": [
        "str = \"This is string Example...Wow!!!\"\n",
        "print(str.swapcase())\n",
        "\n",
        "str = \"THIsis stRINg eXample...Wow!!!   1234\"\n",
        "print(str.swapcase())"
      ],
      "metadata": {
        "colab": {
          "base_uri": "https://localhost:8080/"
        },
        "id": "3Kbl8eTcHQoH",
        "outputId": "b2fdc0a5-3cbd-4985-b0b2-0f12da7adb22"
      },
      "execution_count": 24,
      "outputs": [
        {
          "output_type": "stream",
          "name": "stdout",
          "text": [
            "tHIS IS STRING eXAMPLE...wOW!!!\n",
            "thiSIS STrinG ExAMPLE...wOW!!!   1234\n"
          ]
        }
      ]
    },
    {
      "cell_type": "code",
      "source": [
        "str = \"This Is String Example...Wow!!!\"\n",
        "print(str.istitle())\n",
        "\n",
        "str = \"This is string example...Wow!!!\"\n",
        "print(str.istitle())\n",
        "print(str.title())"
      ],
      "metadata": {
        "colab": {
          "base_uri": "https://localhost:8080/"
        },
        "id": "KotBJX2UIC51",
        "outputId": "26e643c9-4acb-4b39-9832-67d17f85070b"
      },
      "execution_count": 28,
      "outputs": [
        {
          "output_type": "stream",
          "name": "stdout",
          "text": [
            "True\n",
            "False\n",
            "This Is String Example...Wow!!!\n"
          ]
        }
      ]
    },
    {
      "cell_type": "code",
      "source": [
        "print('hello world!'.capitalize())\n",
        "print('HELLO WORLD!'.capitalize())"
      ],
      "metadata": {
        "colab": {
          "base_uri": "https://localhost:8080/"
        },
        "id": "_uFBJjd2Iazz",
        "outputId": "543f4ba5-4b29-4b5d-b8ee-d4d91b03ea20"
      },
      "execution_count": 32,
      "outputs": [
        {
          "output_type": "stream",
          "name": "stdout",
          "text": [
            "Hello world!\n",
            "Hello world!\n"
          ]
        }
      ]
    }
  ]
}