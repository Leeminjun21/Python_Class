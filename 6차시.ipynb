{
  "nbformat": 4,
  "nbformat_minor": 0,
  "metadata": {
    "colab": {
      "provenance": [],
      "authorship_tag": "ABX9TyM2uxYACsTVJOJAgTxphH+L",
      "include_colab_link": true
    },
    "kernelspec": {
      "name": "python3",
      "display_name": "Python 3"
    },
    "language_info": {
      "name": "python"
    }
  },
  "cells": [
    {
      "cell_type": "markdown",
      "metadata": {
        "id": "view-in-github",
        "colab_type": "text"
      },
      "source": [
        "<a href=\"https://colab.research.google.com/github/Leeminjun21/Python_Class/blob/main/6%EC%B0%A8%EC%8B%9C.ipynb\" target=\"_parent\"><img src=\"https://colab.research.google.com/assets/colab-badge.svg\" alt=\"Open In Colab\"/></a>"
      ]
    },
    {
      "cell_type": "code",
      "execution_count": null,
      "metadata": {
        "colab": {
          "base_uri": "https://localhost:8080/"
        },
        "id": "CTPPjq-TFz49",
        "outputId": "2d6e8b27-6a28-4444-85c8-d1ed0d528ae5"
      },
      "outputs": [
        {
          "output_type": "stream",
          "name": "stdout",
          "text": [
            "How old are you12\n",
            "12 years old\n"
          ]
        }
      ],
      "source": [
        "# 1번\n",
        "str = input(\"How old are you\")\n",
        "print(str , 'years old', sep=' ')"
      ]
    },
    {
      "cell_type": "code",
      "source": [
        "# 1-2번\n",
        "x = float(input('number : '))\n",
        "print(x)"
      ],
      "metadata": {
        "colab": {
          "base_uri": "https://localhost:8080/"
        },
        "id": "J3yyR0xnN0uo",
        "outputId": "f215df75-10e5-4cd8-8077-6e8644ffce5b"
      },
      "execution_count": null,
      "outputs": [
        {
          "output_type": "stream",
          "name": "stdout",
          "text": [
            "number : 1.2\n",
            "1.2\n"
          ]
        }
      ]
    },
    {
      "cell_type": "code",
      "source": [
        "# 1-3번\n",
        "year = input (\"this year : \")\n",
        "year = eval(year)\n",
        "year = year + 1\n",
        "print(\"Next year:\", year)"
      ],
      "metadata": {
        "colab": {
          "base_uri": "https://localhost:8080/"
        },
        "id": "nLHTqsnMOL_C",
        "outputId": "89e6929d-981c-4fd7-a5fb-aeb271b50c0a"
      },
      "execution_count": null,
      "outputs": [
        {
          "output_type": "stream",
          "name": "stdout",
          "text": [
            "this year : 2024\n",
            "Next year: 2025\n"
          ]
        }
      ]
    },
    {
      "cell_type": "code",
      "source": [
        "# 2번\n",
        "i = 0\n",
        "result = 0\n",
        "while i < 5:\n",
        "  print(f'{i} 번째',end=\" \")\n",
        "  a = input(\"성적 입력 : \")\n",
        "  result += int(a)\n",
        "  i += 1\n",
        "\n",
        "print(f'합 : {result}')\n",
        "print(f'평균 : {result / 5}')"
      ],
      "metadata": {
        "colab": {
          "base_uri": "https://localhost:8080/"
        },
        "id": "ZnV6cI6secJl",
        "outputId": "a4651882-8724-4c96-9be1-b32afe7c3b59"
      },
      "execution_count": null,
      "outputs": [
        {
          "output_type": "stream",
          "name": "stdout",
          "text": [
            "0 번째 성적 입력 : 10\n",
            "1 번째 성적 입력 : 20\n",
            "2 번째 성적 입력 : 30\n",
            "3 번째 성적 입력 : 40\n",
            "4 번째 성적 입력 : 50\n",
            "합 : 150\n",
            "평균 : 30.0\n"
          ]
        }
      ]
    },
    {
      "cell_type": "code",
      "source": [
        "# 3번\n",
        "test_list = ['one', 'two', 'three']\n",
        "for i in test_list:\n",
        "  print(i)"
      ],
      "metadata": {
        "colab": {
          "base_uri": "https://localhost:8080/"
        },
        "id": "e-3nh8jkiX_a",
        "outputId": "2c4712a3-7ef9-4fbc-840c-3f0bfd8742a7"
      },
      "execution_count": null,
      "outputs": [
        {
          "output_type": "stream",
          "name": "stdout",
          "text": [
            "one\n",
            "two\n",
            "three\n"
          ]
        }
      ]
    },
    {
      "cell_type": "code",
      "source": [
        "# 3-2번\n",
        "for i in range(1, 10):\n",
        "  print(i)"
      ],
      "metadata": {
        "colab": {
          "base_uri": "https://localhost:8080/"
        },
        "id": "eRObEuhyjWq7",
        "outputId": "9a567775-8aaf-4399-cb4e-c9f71549811c"
      },
      "execution_count": null,
      "outputs": [
        {
          "output_type": "stream",
          "name": "stdout",
          "text": [
            "1\n",
            "2\n",
            "3\n",
            "4\n",
            "5\n",
            "6\n",
            "7\n",
            "8\n",
            "9\n"
          ]
        }
      ]
    },
    {
      "cell_type": "code",
      "source": [
        "# 3-3번\n",
        "result = 0\n",
        "for a in range(1, 101):  #1 ~ 100\n",
        "\n",
        "  result = result + a\n",
        "  print(f\"{a} {result}\")\n",
        "\n",
        "print(result)"
      ],
      "metadata": {
        "colab": {
          "base_uri": "https://localhost:8080/"
        },
        "id": "c05KEqBOjnTe",
        "outputId": "fbcf3add-43cd-496c-f171-d66c550e31d6"
      },
      "execution_count": null,
      "outputs": [
        {
          "output_type": "stream",
          "name": "stdout",
          "text": [
            "1 1\n",
            "2 3\n",
            "3 6\n",
            "4 10\n",
            "5 15\n",
            "6 21\n",
            "7 28\n",
            "8 36\n",
            "9 45\n",
            "10 55\n",
            "11 66\n",
            "12 78\n",
            "13 91\n",
            "14 105\n",
            "15 120\n",
            "16 136\n",
            "17 153\n",
            "18 171\n",
            "19 190\n",
            "20 210\n",
            "21 231\n",
            "22 253\n",
            "23 276\n",
            "24 300\n",
            "25 325\n",
            "26 351\n",
            "27 378\n",
            "28 406\n",
            "29 435\n",
            "30 465\n",
            "31 496\n",
            "32 528\n",
            "33 561\n",
            "34 595\n",
            "35 630\n",
            "36 666\n",
            "37 703\n",
            "38 741\n",
            "39 780\n",
            "40 820\n",
            "41 861\n",
            "42 903\n",
            "43 946\n",
            "44 990\n",
            "45 1035\n",
            "46 1081\n",
            "47 1128\n",
            "48 1176\n",
            "49 1225\n",
            "50 1275\n",
            "51 1326\n",
            "52 1378\n",
            "53 1431\n",
            "54 1485\n",
            "55 1540\n",
            "56 1596\n",
            "57 1653\n",
            "58 1711\n",
            "59 1770\n",
            "60 1830\n",
            "61 1891\n",
            "62 1953\n",
            "63 2016\n",
            "64 2080\n",
            "65 2145\n",
            "66 2211\n",
            "67 2278\n",
            "68 2346\n",
            "69 2415\n",
            "70 2485\n",
            "71 2556\n",
            "72 2628\n",
            "73 2701\n",
            "74 2775\n",
            "75 2850\n",
            "76 2926\n",
            "77 3003\n",
            "78 3081\n",
            "79 3160\n",
            "80 3240\n",
            "81 3321\n",
            "82 3403\n",
            "83 3486\n",
            "84 3570\n",
            "85 3655\n",
            "86 3741\n",
            "87 3828\n",
            "88 3916\n",
            "89 4005\n",
            "90 4095\n",
            "91 4186\n",
            "92 4278\n",
            "93 4371\n",
            "94 4465\n",
            "95 4560\n",
            "96 4656\n",
            "97 4753\n",
            "98 4851\n",
            "99 4950\n",
            "100 5050\n",
            "5050\n"
          ]
        }
      ]
    },
    {
      "cell_type": "code",
      "source": [
        "# 4번\n",
        "result = 0\n",
        "for a in range(1,101):  # 1 ~ 100\n",
        "  result = result + a     # a를 더해주고\n",
        "  print(f'{a} : sum = {result}')          # 그때의 a값을 출력\n",
        "  if result > 100:      # result가 100이 넘었을때\n",
        "\n",
        "      break\n",
        "\n",
        "print(result)"
      ],
      "metadata": {
        "colab": {
          "base_uri": "https://localhost:8080/"
        },
        "id": "pLBus7Fd8OPY",
        "outputId": "aad5d747-caee-4538-ec81-5dffdfcaf364"
      },
      "execution_count": null,
      "outputs": [
        {
          "output_type": "stream",
          "name": "stdout",
          "text": [
            "1 : sum = 1\n",
            "2 : sum = 3\n",
            "3 : sum = 6\n",
            "4 : sum = 10\n",
            "5 : sum = 15\n",
            "6 : sum = 21\n",
            "7 : sum = 28\n",
            "8 : sum = 36\n",
            "9 : sum = 45\n",
            "10 : sum = 55\n",
            "11 : sum = 66\n",
            "12 : sum = 78\n",
            "13 : sum = 91\n",
            "14 : sum = 105\n",
            "105\n"
          ]
        }
      ]
    },
    {
      "cell_type": "code",
      "source": [
        "# 4-2번\n",
        "index = 0\n",
        "s = \"BlockDMask\"\n",
        "for a in s:\n",
        "  print(a,end=' ')\n",
        "  if a == 'k':\n",
        "    break     # 'k'를 찾았으니 for문에서 나와랏!\n",
        "\n",
        "  index = index + 1\n",
        "\n",
        "print(index)   # 'k'가 첫번째로 존재하는 위치 출력"
      ],
      "metadata": {
        "colab": {
          "base_uri": "https://localhost:8080/"
        },
        "id": "3PDq9zZy8XEx",
        "outputId": "24c22e4a-2dd4-4542-9d8c-b107a39a81b2"
      },
      "execution_count": null,
      "outputs": [
        {
          "output_type": "stream",
          "name": "stdout",
          "text": [
            "B l o c k 4\n"
          ]
        }
      ]
    },
    {
      "cell_type": "code",
      "source": [
        "# 5번\n",
        "student = [180, 170, 164, 199, 182, 172, 177]\n",
        "for a in student:\n",
        "  if a > 170:\n",
        "\n",
        "    continue  # 키가 170보다 크면 continue\n",
        "\n",
        "  print(a)"
      ],
      "metadata": {
        "colab": {
          "base_uri": "https://localhost:8080/"
        },
        "id": "I7zeYxe59crN",
        "outputId": "092d96a4-7d6e-4f47-e3ea-693983fee4d1"
      },
      "execution_count": null,
      "outputs": [
        {
          "output_type": "stream",
          "name": "stdout",
          "text": [
            "170\n",
            "164\n"
          ]
        }
      ]
    },
    {
      "cell_type": "code",
      "source": [
        "# 5-2번\n",
        "result = 0\n",
        "for a in range(1,101):  #1 ~ 100\n",
        "  if a % 2 == 0:        #2로 나누었을때 나머지가 1\n",
        "\n",
        "      continue\n",
        "  result = result + a\n",
        "\n",
        "print(result)"
      ],
      "metadata": {
        "colab": {
          "base_uri": "https://localhost:8080/"
        },
        "id": "bDzyEvBI_Yfu",
        "outputId": "54640ff3-1ae0-408f-e6c0-9944a1c2d5ff"
      },
      "execution_count": null,
      "outputs": [
        {
          "output_type": "stream",
          "name": "stdout",
          "text": [
            "2500\n"
          ]
        }
      ]
    },
    {
      "cell_type": "code",
      "source": [
        "# 6번\n",
        "l = ['Alice' , 'Bob' , 'Charlie']\n",
        "\n",
        "for name in l:\n",
        "    print(name)\n",
        "else:\n",
        "    print('!!FINISH!')"
      ],
      "metadata": {
        "colab": {
          "base_uri": "https://localhost:8080/"
        },
        "id": "FjM5TopuBMBp",
        "outputId": "422c310f-393e-4afc-be2e-083063641618"
      },
      "execution_count": null,
      "outputs": [
        {
          "output_type": "stream",
          "name": "stdout",
          "text": [
            "Alice\n",
            "Bob\n",
            "Charlie\n",
            "!!FINISH!\n"
          ]
        }
      ]
    },
    {
      "cell_type": "code",
      "source": [
        "# 6-2번\n",
        "l = ['Alice' , 'Bob' , 'Charlie']\n",
        "\n",
        "for name in l:\n",
        "    if name == 'Bob':\n",
        "        print('!!BREAK!!')\n",
        "        break\n",
        "    print(name)\n",
        "else:\n",
        "    print('!!FINISH!!')"
      ],
      "metadata": {
        "colab": {
          "base_uri": "https://localhost:8080/"
        },
        "id": "Li-9509-Bnpj",
        "outputId": "ef56ba8f-633d-4837-8684-ea11d3ce390c"
      },
      "execution_count": null,
      "outputs": [
        {
          "output_type": "stream",
          "name": "stdout",
          "text": [
            "Alice\n",
            "!!BREAK!!\n"
          ]
        }
      ]
    },
    {
      "cell_type": "code",
      "source": [
        "# 7번\n",
        "sr = ['father', 'mother', 'brother']\n",
        "cnt = 0\n",
        "for s in sr:\n",
        "        for c in s:\n",
        "            if c == 'r':\n",
        "                cnt += 1\n",
        "print(cnt)"
      ],
      "metadata": {
        "colab": {
          "base_uri": "https://localhost:8080/"
        },
        "id": "vB2aE2YRFjM0",
        "outputId": "a2790f22-3968-4cf2-8a47-7c86f4ed67c5"
      },
      "execution_count": null,
      "outputs": [
        {
          "output_type": "stream",
          "name": "stdout",
          "text": [
            "4\n"
          ]
        }
      ]
    },
    {
      "cell_type": "code",
      "source": [
        "# 8번\n",
        "a = []\n",
        "\n",
        "for i in range(10):\n",
        "    a.append(0)\n",
        "\n",
        "print(a)"
      ],
      "metadata": {
        "colab": {
          "base_uri": "https://localhost:8080/"
        },
        "id": "43WTLvCNGgsN",
        "outputId": "d55fe256-5a7a-4cef-a38a-0c54e7608089"
      },
      "execution_count": null,
      "outputs": [
        {
          "output_type": "stream",
          "name": "stdout",
          "text": [
            "[0, 0, 0, 0, 0, 0, 0, 0, 0, 0]\n"
          ]
        }
      ]
    },
    {
      "cell_type": "code",
      "source": [
        "# 8-2번\n",
        "a = []\n",
        "\n",
        "for i in range(3):\n",
        "    line = []\n",
        "    for j in range(2):\n",
        "        line.append(0)\n",
        "    a.append(line)\n",
        "\n",
        "print(a)"
      ],
      "metadata": {
        "colab": {
          "base_uri": "https://localhost:8080/"
        },
        "id": "RfaSxWu2HHEc",
        "outputId": "9393d70c-4433-45e9-8fd2-45dbb84ed087"
      },
      "execution_count": null,
      "outputs": [
        {
          "output_type": "stream",
          "name": "stdout",
          "text": [
            "[[0, 0], [0, 0], [0, 0]]\n"
          ]
        }
      ]
    },
    {
      "cell_type": "code",
      "source": [
        "# 7번\n",
        "l = ['Alice', 'Bob', 'Charlie']\n",
        "\n",
        "for name in l:\n",
        "    print(name)\n",
        "\n",
        "for i, name in enumerate(l):\n",
        "    print(i, name)"
      ],
      "metadata": {
        "colab": {
          "base_uri": "https://localhost:8080/"
        },
        "id": "DYnKzPS1H-rw",
        "outputId": "d4a0323c-822a-46ef-bb4c-07a98fc9a1d3"
      },
      "execution_count": null,
      "outputs": [
        {
          "output_type": "stream",
          "name": "stdout",
          "text": [
            "Alice\n",
            "Bob\n",
            "Charlie\n",
            "0 Alice\n",
            "1 Bob\n",
            "2 Charlie\n"
          ]
        }
      ]
    },
    {
      "cell_type": "code",
      "source": [
        "# 7-2번\n",
        "for i, name in enumerate(l, 1):\n",
        "    print(i, name)\n",
        "\n",
        "for i, name in enumerate(l, 42):\n",
        "    print(i, name)"
      ],
      "metadata": {
        "colab": {
          "base_uri": "https://localhost:8080/"
        },
        "id": "CLbV65_HIU5m",
        "outputId": "2c825035-90f4-4a48-f111-272dda0728a4"
      },
      "execution_count": null,
      "outputs": [
        {
          "output_type": "stream",
          "name": "stdout",
          "text": [
            "1 Alice\n",
            "2 Bob\n",
            "3 Charlie\n",
            "42 Alice\n",
            "43 Bob\n",
            "44 Charlie\n"
          ]
        }
      ]
    }
  ]
}