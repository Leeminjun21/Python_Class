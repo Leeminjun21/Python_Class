{
  "nbformat": 4,
  "nbformat_minor": 0,
  "metadata": {
    "colab": {
      "provenance": [],
      "authorship_tag": "ABX9TyNwGzApUYEUSArg+EWw1jMF",
      "include_colab_link": true
    },
    "kernelspec": {
      "name": "python3",
      "display_name": "Python 3"
    },
    "language_info": {
      "name": "python"
    }
  },
  "cells": [
    {
      "cell_type": "markdown",
      "metadata": {
        "id": "view-in-github",
        "colab_type": "text"
      },
      "source": [
        "<a href=\"https://colab.research.google.com/github/Leeminjun21/Python_Class/blob/main/1%EC%B0%A8%EC%8B%9C.ipynb\" target=\"_parent\"><img src=\"https://colab.research.google.com/assets/colab-badge.svg\" alt=\"Open In Colab\"/></a>"
      ]
    },
    {
      "cell_type": "code",
      "execution_count": 1,
      "metadata": {
        "id": "VYzTFYNtMGfh",
        "colab": {
          "base_uri": "https://localhost:8080/"
        },
        "outputId": "eda3fa4f-67aa-46aa-cfab-e7d0949b7dac"
      },
      "outputs": [
        {
          "output_type": "stream",
          "name": "stdout",
          "text": [
            "test\n",
            "python class1\n",
            "Visual Studio Python\n"
          ]
        }
      ],
      "source": [
        "\n",
        "print(\"test\")\n",
        "print(\"python class1\")\n",
        "\n",
        "print(\"Visual Studio Python\")\n"
      ]
    }
  ]
}