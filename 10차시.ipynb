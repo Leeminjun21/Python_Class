{
  "nbformat": 4,
  "nbformat_minor": 0,
  "metadata": {
    "colab": {
      "provenance": [],
      "authorship_tag": "ABX9TyPtgn21KLvgaSmG9Qgr9fwW",
      "include_colab_link": true
    },
    "kernelspec": {
      "name": "python3",
      "display_name": "Python 3"
    },
    "language_info": {
      "name": "python"
    }
  },
  "cells": [
    {
      "cell_type": "markdown",
      "metadata": {
        "id": "view-in-github",
        "colab_type": "text"
      },
      "source": [
        "<a href=\"https://colab.research.google.com/github/Leeminjun21/Python_Class/blob/main/10%EC%B0%A8%EC%8B%9C.ipynb\" target=\"_parent\"><img src=\"https://colab.research.google.com/assets/colab-badge.svg\" alt=\"Open In Colab\"/></a>"
      ]
    },
    {
      "cell_type": "code",
      "execution_count": 5,
      "metadata": {
        "colab": {
          "base_uri": "https://localhost:8080/"
        },
        "id": "UKJK-7x9sruc",
        "outputId": "dbb59f0c-df23-4d9a-9934-a0bc8a49c117"
      },
      "outputs": [
        {
          "output_type": "stream",
          "name": "stdout",
          "text": [
            "BlockDMask\n",
            "BlockDMask\n",
            "BlockDMask\n",
            "BlockDMask\n",
            "BlockDMask\n",
            "BlockDMask\n"
          ]
        }
      ],
      "source": [
        "def func1():\n",
        "    print(\"BlockDMask\")\n",
        "\n",
        "# 함수 호출\n",
        "func1()\n",
        "func1()\n",
        "func1()\n",
        "\n",
        "for i in range(3):\n",
        "    func1()"
      ]
    },
    {
      "cell_type": "code",
      "source": [
        "def func2(a, b):\n",
        "    print(f'{a} 곱하기 {b} = {a * b}')\n",
        "\n",
        "# 함수 호출\n",
        "func2(1, 2)\n",
        "func2(1, 1)\n",
        "func2(3, 4)"
      ],
      "metadata": {
        "colab": {
          "base_uri": "https://localhost:8080/"
        },
        "id": "YmnXH1pOuJip",
        "outputId": "7d3cfb42-87a7-47ea-b806-8d4a2fd8ee14"
      },
      "execution_count": 7,
      "outputs": [
        {
          "output_type": "stream",
          "name": "stdout",
          "text": [
            "1 곱하기 2 = 2\n",
            "1 곱하기 1 = 1\n",
            "3 곱하기 4 = 12\n"
          ]
        }
      ]
    },
    {
      "cell_type": "code",
      "source": [
        "def func3():\n",
        "    return \"abcdefg\"\n",
        "\n",
        "# 함수 호출\n",
        "\n",
        "a = func3()\n",
        "print(a , 'GG' , sep=\" \" )"
      ],
      "metadata": {
        "colab": {
          "base_uri": "https://localhost:8080/"
        },
        "id": "s3myyropu7Ao",
        "outputId": "420cda54-fbcb-47d6-ef20-8950de5d02b0"
      },
      "execution_count": 14,
      "outputs": [
        {
          "output_type": "stream",
          "name": "stdout",
          "text": [
            "abcdefg GG\n"
          ]
        }
      ]
    },
    {
      "cell_type": "code",
      "source": [
        "def func4(a, b):\n",
        "    return a * b\n",
        "\n",
        "# 함수 호출\n",
        "a = input()\n",
        "c = func4(int(a),9)    # input 함수를 사용한 a는 문자이기 때문에 숫자로 바꿔준다\n",
        "print(c)"
      ],
      "metadata": {
        "colab": {
          "base_uri": "https://localhost:8080/"
        },
        "id": "LrKYuiwAxrnv",
        "outputId": "9b150512-a051-407d-b353-96e46d5a4cbd"
      },
      "execution_count": 17,
      "outputs": [
        {
          "output_type": "stream",
          "name": "stdout",
          "text": [
            "2\n",
            "18\n"
          ]
        }
      ]
    },
    {
      "cell_type": "code",
      "source": [
        "def gugudan(num):\n",
        "    for i in range(1, 10):\n",
        "        print(f'{num} x {i} = {num * i}')\n",
        "    print()\n",
        "# 구구단 출력\n",
        "\n",
        "gugudan(2)\n",
        "\n",
        "gugudan(3)"
      ],
      "metadata": {
        "colab": {
          "base_uri": "https://localhost:8080/"
        },
        "id": "tcvhpJruy1dP",
        "outputId": "7b267d16-d58e-4f7a-9886-7adc80aad1c7"
      },
      "execution_count": 25,
      "outputs": [
        {
          "output_type": "stream",
          "name": "stdout",
          "text": [
            "2 x 1 = 2\n",
            "2 x 2 = 4\n",
            "2 x 3 = 6\n",
            "2 x 4 = 8\n",
            "2 x 5 = 10\n",
            "2 x 6 = 12\n",
            "2 x 7 = 14\n",
            "2 x 8 = 16\n",
            "2 x 9 = 18\n",
            "\n",
            "3 x 1 = 3\n",
            "3 x 2 = 6\n",
            "3 x 3 = 9\n",
            "3 x 4 = 12\n",
            "3 x 5 = 15\n",
            "3 x 6 = 18\n",
            "3 x 7 = 21\n",
            "3 x 8 = 24\n",
            "3 x 9 = 27\n",
            "\n"
          ]
        }
      ]
    },
    {
      "cell_type": "code",
      "source": [
        "# 예제 1 - LMJ\n",
        "\n",
        "def func1(a , b=5, c=10):\n",
        "    return a + b + c\n",
        "\n",
        "print(func1(1, 2, 3))\n",
        "print(func1(1,2))\n",
        "print(func1(a=1))\n",
        "\n",
        "print()\n",
        "# 예제 2 - LMJ\n",
        "\n",
        "def func2(a=10, b=20):\n",
        "    return a + b\n",
        "\n",
        "print(func2(1, 2))\n",
        "print(func2(1))\n",
        "print(func2())"
      ],
      "metadata": {
        "colab": {
          "base_uri": "https://localhost:8080/"
        },
        "id": "d6XgsASc0pwm",
        "outputId": "7d4351d4-3392-4d9c-d11d-372ea7aafbc4"
      },
      "execution_count": 41,
      "outputs": [
        {
          "output_type": "stream",
          "name": "stdout",
          "text": [
            "6\n",
            "13\n",
            "16\n",
            "\n",
            "3\n",
            "21\n",
            "30\n"
          ]
        }
      ]
    },
    {
      "cell_type": "code",
      "source": [
        "def func3(a=10,b,c): # error\n",
        "\t\treturn a + b + c\n",
        "\n",
        "func3(1, 2)   # 1이 a이고 2가 b에 들어가는거겠지?\n",
        "\t\t\t\t\t\t\t# 뭘 원하는거야? error\n",
        "func3( , 1,2) # 뭐 이렇게 호출해야하나? error"
      ],
      "metadata": {
        "colab": {
          "base_uri": "https://localhost:8080/",
          "height": 110
        },
        "id": "tMrKbWVV17QI",
        "outputId": "6b9024b9-cd9e-4e61-fc9d-f6087bef692e"
      },
      "execution_count": 47,
      "outputs": [
        {
          "output_type": "error",
          "ename": "SyntaxError",
          "evalue": "non-default argument follows default argument (<ipython-input-47-77671aaabe7d>, line 1)",
          "traceback": [
            "\u001b[0;36m  File \u001b[0;32m\"<ipython-input-47-77671aaabe7d>\"\u001b[0;36m, line \u001b[0;32m1\u001b[0m\n\u001b[0;31m    def func3(a=10,b,c): # error\u001b[0m\n\u001b[0m                   ^\u001b[0m\n\u001b[0;31mSyntaxError\u001b[0m\u001b[0;31m:\u001b[0m non-default argument follows default argument\n"
          ]
        }
      ]
    },
    {
      "cell_type": "code",
      "source": [
        "def func6(*args):\n",
        "    a = 0\n",
        "    for i in args:\n",
        "        a = a + i\n",
        "    return a\n",
        "\n",
        "b = func6(1, 5)\n",
        "print(b)\n",
        "\n",
        "c = func6(2, 1, 3, 2)\n",
        "print(c)\n",
        "\n",
        "d = func6(1,2,3,4,5,6,7,8)\n",
        "print(d)\n",
        "\n",
        "e = func6()\n",
        "print(e)"
      ],
      "metadata": {
        "colab": {
          "base_uri": "https://localhost:8080/"
        },
        "id": "edxlnkbg38-V",
        "outputId": "801674ba-aa02-4ed0-d7a0-ba8e5fb991ab"
      },
      "execution_count": 53,
      "outputs": [
        {
          "output_type": "stream",
          "name": "stdout",
          "text": [
            "6\n",
            "8\n",
            "36\n",
            "0\n"
          ]
        }
      ]
    },
    {
      "cell_type": "code",
      "source": [
        "def test(*val):\n",
        "    for i in val:\n",
        "        print(i)\n",
        "\n",
        "test(1, 'a', 'b', 'c')"
      ],
      "metadata": {
        "colab": {
          "base_uri": "https://localhost:8080/"
        },
        "id": "ByfYSJ4_5RZd",
        "outputId": "e349e48c-e57e-460f-8a10-e594116a3c4f"
      },
      "execution_count": 54,
      "outputs": [
        {
          "output_type": "stream",
          "name": "stdout",
          "text": [
            "1\n",
            "a\n",
            "b\n",
            "c\n"
          ]
        }
      ]
    },
    {
      "cell_type": "code",
      "source": [
        "def sum_mul(choice, *val):\n",
        "    if choice == 'sum':\n",
        "        result = 0\n",
        "        for i in val:\n",
        "          result = result + i\n",
        "    elif choice == 'mul':\n",
        "        result = 1\n",
        "        for i in val:\n",
        "          result = result * i\n",
        "    print()\n",
        "    return result\n",
        "\n",
        "print(sum_mul('sum', 1,2,3,4,5 ))\n",
        "print(sum_mul('mul', 1,2,3,4,5 ))"
      ],
      "metadata": {
        "colab": {
          "base_uri": "https://localhost:8080/"
        },
        "id": "7HJO78v86eON",
        "outputId": "0f78bb94-3579-4598-aee3-76dc1b124c4a"
      },
      "execution_count": 59,
      "outputs": [
        {
          "output_type": "stream",
          "name": "stdout",
          "text": [
            "\n",
            "15\n",
            "\n",
            "120\n"
          ]
        }
      ]
    },
    {
      "cell_type": "code",
      "source": [
        "def comp(score=0):\n",
        "    if score == 0:\n",
        "        return 0\n",
        "    elif score > 50:\n",
        "        return 2\n",
        "    else:\n",
        "        return 1\n",
        "\n",
        "grade = comp(40)\n",
        "print(\"Grade is \", grade, \" for \", 40)\n",
        "\n",
        "grade = comp(80)\n",
        "print(\"Grade is \", grade, \" for \", 80)\n",
        "\n",
        "grade = comp()\n",
        "print(\"Grade is \", grade, \" for \", \"for no score\")"
      ],
      "metadata": {
        "colab": {
          "base_uri": "https://localhost:8080/"
        },
        "id": "7TiQktRW70y8",
        "outputId": "ded21282-eeb5-46f8-fabe-cd3af28cd992"
      },
      "execution_count": 61,
      "outputs": [
        {
          "output_type": "stream",
          "name": "stdout",
          "text": [
            "Grade is  1  for  40\n",
            "Grade is  2  for  80\n",
            "Grade is  0  for  for no score\n"
          ]
        }
      ]
    },
    {
      "cell_type": "code",
      "source": [
        "def report(name, age, score):\n",
        "    print(name, score)\n",
        "\n",
        "report(age =21, name=\"LEE\", score=100)\n",
        "report(\"LEE\", 21, 100)"
      ],
      "metadata": {
        "colab": {
          "base_uri": "https://localhost:8080/"
        },
        "id": "LIYgE6Zm87b8",
        "outputId": "102951cf-19e7-4279-8df8-c2e82b343c73"
      },
      "execution_count": 67,
      "outputs": [
        {
          "output_type": "stream",
          "name": "stdout",
          "text": [
            "LEE 100\n",
            "LEE 100\n"
          ]
        }
      ]
    }
  ]
}