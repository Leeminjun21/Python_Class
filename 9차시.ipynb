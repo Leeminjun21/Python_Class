{
  "nbformat": 4,
  "nbformat_minor": 0,
  "metadata": {
    "colab": {
      "provenance": [],
      "authorship_tag": "ABX9TyMeROfbx8i3w+yQOhO6BkXA",
      "include_colab_link": true
    },
    "kernelspec": {
      "name": "python3",
      "display_name": "Python 3"
    },
    "language_info": {
      "name": "python"
    }
  },
  "cells": [
    {
      "cell_type": "markdown",
      "metadata": {
        "id": "view-in-github",
        "colab_type": "text"
      },
      "source": [
        "<a href=\"https://colab.research.google.com/github/Leeminjun21/Python_Class/blob/main/9%EC%B0%A8%EC%8B%9C.ipynb\" target=\"_parent\"><img src=\"https://colab.research.google.com/assets/colab-badge.svg\" alt=\"Open In Colab\"/></a>"
      ]
    },
    {
      "cell_type": "code",
      "execution_count": 30,
      "metadata": {
        "colab": {
          "base_uri": "https://localhost:8080/"
        },
        "id": "stgtymd2JX1V",
        "outputId": "d405f5bf-86e0-4e27-caf9-cefdb39127eb"
      },
      "outputs": [
        {
          "output_type": "stream",
          "name": "stdout",
          "text": [
            "        test   !       \n",
            ".text.~~ \n",
            "test!\n",
            "        test   !       \n",
            "~~.text.~~ \n",
            "~test!\n",
            "\n",
            "\n",
            "\n",
            "Water boils at 100 degress 000\n",
            "000000000Water boils at 100 degress \n",
            "Water boils at 100 degress \n",
            "\n",
            "\n",
            "\n",
            "water...pp\n",
            ",,,,,,123...water\n",
            "water\n"
          ]
        }
      ],
      "source": [
        "a = '        test   !       '\n",
        "b = '~~.text.~~ '\n",
        "c = '~test!'\n",
        "\n",
        "#print(a.rstrip(), end='.')\n",
        "print(a.lstrip('~'))\n",
        "print(b.lstrip('~'))\n",
        "print(c.lstrip('~'))\n",
        "\n",
        "print(a.rstrip('~'))\n",
        "print(b.rstrip('~'))\n",
        "print(c.rstrip('~'))\n",
        "\n",
        "print('\\n\\n')\n",
        "\n",
        "text = '000000000Water boils at 100 degress 000'\n",
        "print(text.lstrip('0'))\n",
        "print(text.rstrip('0'))\n",
        "print(text.strip('0'))\n",
        "\n",
        "print('\\n\\n')\n",
        "text = \",,,,,,123...water...pp\"\n",
        "print(text.lstrip(',123.p'))\n",
        "print(text.rstrip(',123.p'))\n",
        "print(text.strip(',123.p'))"
      ]
    },
    {
      "cell_type": "code",
      "source": [
        "text = '  Water bils at 100 degrees  '\n",
        "print('[' + text.rstrip() + ']')\n",
        "print('[' + text.lstrip() + ']')\n",
        "print('[' + text.strip() + ']')"
      ],
      "metadata": {
        "colab": {
          "base_uri": "https://localhost:8080/"
        },
        "id": "w5b8rEYIRpDz",
        "outputId": "0f0823fd-6871-4de3-b58b-8bfc09880f05"
      },
      "execution_count": 31,
      "outputs": [
        {
          "output_type": "stream",
          "name": "stdout",
          "text": [
            "[  Water bils at 100 degrees]\n",
            "[Water bils at 100 degrees  ]\n",
            "[Water bils at 100 degrees]\n"
          ]
        }
      ]
    },
    {
      "cell_type": "code",
      "source": [
        "txt = \"   Hz   \"\n",
        "print(txt.isspace())"
      ],
      "metadata": {
        "colab": {
          "base_uri": "https://localhost:8080/"
        },
        "id": "bAJsEC59SQ6n",
        "outputId": "7ee7a64b-7aef-4322-9b2c-2f5c0c368da5"
      },
      "execution_count": 32,
      "outputs": [
        {
          "output_type": "stream",
          "name": "stdout",
          "text": [
            "False\n"
          ]
        }
      ]
    },
    {
      "cell_type": "code",
      "source": [
        "sentence = input(\"문자열을 입력하시오: \")\n",
        "table = { \"알파벳\" : 0, \"숫자\" : 0, \"빈칸\" : 0}\n",
        "\n",
        "for i in sentence:\n",
        "    if (i.isalpha()):\n",
        "        table[\"알파벳\"] += 1\n",
        "    elif (i.isdigit()):\n",
        "        table[\"숫자\"] += 1\n",
        "    elif (i.isspace()):\n",
        "        table[\"빈칸\"] += 1\n",
        "print(table)"
      ],
      "metadata": {
        "colab": {
          "base_uri": "https://localhost:8080/"
        },
        "id": "R4MpyKoHSdo2",
        "outputId": "d61a84b6-d62a-4c7c-8de1-8054d7df5f50"
      },
      "execution_count": 33,
      "outputs": [
        {
          "output_type": "stream",
          "name": "stdout",
          "text": [
            "문자열을 입력하시오: 123 adb\n",
            "{'알파벳': 3, '숫자': 3, '빈칸': 1}\n"
          ]
        }
      ]
    },
    {
      "cell_type": "code",
      "source": [
        "s = '가나다라'\n",
        "n = 7\n",
        "\n",
        "answer =''\n",
        "for i in range(n-len(s)):  # 문자열의 앞을 빈 문자열로 채우는 for 문\n",
        "    answer +=' '\n",
        "\n",
        "answer += s\n",
        "\n",
        "print(answer)\n",
        "\n",
        "print(s.ljust(n))\n",
        "print(s.center(n))\n",
        "print(s.rjust(n))"
      ],
      "metadata": {
        "colab": {
          "base_uri": "https://localhost:8080/"
        },
        "id": "jOxlWhxJT_u3",
        "outputId": "8e716ed4-957f-4363-b9aa-1351757e1bd1"
      },
      "execution_count": 37,
      "outputs": [
        {
          "output_type": "stream",
          "name": "stdout",
          "text": [
            "   가나다라\n",
            "가나다라   \n",
            "  가나다라 \n",
            "   가나다라\n"
          ]
        }
      ]
    },
    {
      "cell_type": "code",
      "source": [
        "s = \"a b c d e f g\"\n",
        "print(f's             : {s}')\n",
        "\n",
        "r = s.split()\n",
        "print(f's.split() : {r}')"
      ],
      "metadata": {
        "colab": {
          "base_uri": "https://localhost:8080/"
        },
        "id": "vm3ykweUV-nv",
        "outputId": "d81f4357-6ca8-436c-cd55-d3d5bcfa8779"
      },
      "execution_count": 38,
      "outputs": [
        {
          "output_type": "stream",
          "name": "stdout",
          "text": [
            "s             : a b c d e f g\n",
            "s.split() : ['a', 'b', 'c', 'd', 'e', 'f', 'g']\n"
          ]
        }
      ]
    },
    {
      "cell_type": "code",
      "source": [
        "s = \"aa.bb.cc.BlockDMask.ee.ff.gg.python.example\"\n",
        "print(s)\n",
        "\n",
        "r0 = s.split()\n",
        "r1 = s.split('.',3)\n",
        "r2 = s.split(sep='.', maxsplit=4)\n",
        "r3 = s.split('.', maxsplit=3)\n",
        "print(f\"\\ns.split()\\n{r0}\")\n",
        "print(f\"\\ns.split('.',4)\\n{r1}\")\n",
        "print(f\"\\ns.split(sep='.', maxsplit=3)\\n{r2}\")\n",
        "print(f\"\\ns.split('.', maxsplit=3)\\n{r3}\")"
      ],
      "metadata": {
        "colab": {
          "base_uri": "https://localhost:8080/"
        },
        "id": "0bne0BpyXIvU",
        "outputId": "cb9b86a9-618d-4cb5-97b1-41b9fabcd281"
      },
      "execution_count": 40,
      "outputs": [
        {
          "output_type": "stream",
          "name": "stdout",
          "text": [
            "aa.bb.cc.BlockDMask.ee.ff.gg.python.example\n",
            "\n",
            "s.split()\n",
            "['aa.bb.cc.BlockDMask.ee.ff.gg.python.example']\n",
            "\n",
            "s.split('.',4)\n",
            "['aa', 'bb', 'cc', 'BlockDMask.ee.ff.gg.python.example']\n",
            "\n",
            "s.split(sep='.', maxsplit=3)\n",
            "['aa', 'bb', 'cc', 'BlockDMask', 'ee.ff.gg.python.example']\n",
            "\n",
            "s.split('.', maxsplit=3)\n",
            "['aa', 'bb', 'cc', 'BlockDMask.ee.ff.gg.python.example']\n"
          ]
        }
      ]
    },
    {
      "cell_type": "code",
      "source": [
        "text = '123,456,789,999'\n",
        "\n",
        "print(text.replace(\",\",\"\"))\n",
        "print(text.replace(\",\",\"!\",1))\n",
        "print(text.replace(\",\",\"!\",2))\n",
        "print(text.replace(\",\",\"!\",3))"
      ],
      "metadata": {
        "colab": {
          "base_uri": "https://localhost:8080/"
        },
        "id": "vwcxZ_OMX_xK",
        "outputId": "cdbcb6fc-b697-4ac0-a4a6-059c266b30c9"
      },
      "execution_count": 43,
      "outputs": [
        {
          "output_type": "stream",
          "name": "stdout",
          "text": [
            "123456789999\n",
            "123!456,789,999\n",
            "123!456!789,999\n",
            "123!456!789!999\n"
          ]
        }
      ]
    },
    {
      "cell_type": "code",
      "source": [
        "txt = \"홈짱닷컴\\nHomzzang.com\"\n",
        "print(txt.splitlines())"
      ],
      "metadata": {
        "colab": {
          "base_uri": "https://localhost:8080/"
        },
        "id": "W4JXSngfY3El",
        "outputId": "bef7e452-6313-4c37-87cb-1396b222e0d8"
      },
      "execution_count": 44,
      "outputs": [
        {
          "output_type": "stream",
          "name": "stdout",
          "text": [
            "['홈짱닷컴', 'Homzzang.com']\n"
          ]
        }
      ]
    },
    {
      "cell_type": "code",
      "source": [
        "a = ['a','b','c','d','1','2','3']\n",
        "print(a)\n",
        "\n",
        "result1 = \"!\".join(a)\n",
        "print(result1)"
      ],
      "metadata": {
        "colab": {
          "base_uri": "https://localhost:8080/"
        },
        "id": "WGkotWSlZVpK",
        "outputId": "6a395b91-05d4-4be1-b408-b1d6ff1fc16f"
      },
      "execution_count": 49,
      "outputs": [
        {
          "output_type": "stream",
          "name": "stdout",
          "text": [
            "['a', 'b', 'c', 'd', '1', '2', '3']\n",
            "a!b!c!d!1!2!3\n"
          ]
        }
      ]
    },
    {
      "cell_type": "code",
      "source": [
        "print( \"3\".zfill(3))\n",
        "print( \"s1\".zfill(4))"
      ],
      "metadata": {
        "colab": {
          "base_uri": "https://localhost:8080/"
        },
        "id": "hKjfV-_vagXH",
        "outputId": "286b2f9b-94e6-4d3b-a477-c65b0ec526f7"
      },
      "execution_count": 51,
      "outputs": [
        {
          "output_type": "stream",
          "name": "stdout",
          "text": [
            "003\n",
            "00s1\n"
          ]
        }
      ]
    },
    {
      "cell_type": "code",
      "source": [
        "for x in range(3):\n",
        "    print(x)\n",
        "    print( str(x).zfill(4))"
      ],
      "metadata": {
        "colab": {
          "base_uri": "https://localhost:8080/"
        },
        "id": "qFU_HDcubDoc",
        "outputId": "c457aef5-a95c-4f7e-d5d3-b083b0340f6c"
      },
      "execution_count": 54,
      "outputs": [
        {
          "output_type": "stream",
          "name": "stdout",
          "text": [
            "0\n",
            "0000\n",
            "1\n",
            "0001\n",
            "2\n",
            "0002\n"
          ]
        }
      ]
    },
    {
      "cell_type": "code",
      "source": [
        "a =\"abc\"\n",
        "\n",
        "print(a.rjust(10))\n",
        "print(a.rjust(10, '#'))\n",
        "\n",
        "print(a.ljust(10))\n",
        "print(a.ljust(10, '*'))\n",
        "\n",
        "print('\\n')\n",
        "\n",
        "b='def'\n",
        "print(b.ljust(15))\n",
        "print(b.ljust(15, 'k'))"
      ],
      "metadata": {
        "colab": {
          "base_uri": "https://localhost:8080/"
        },
        "id": "NIRQgZqpbb67",
        "outputId": "05060b89-558d-4843-f516-d6786bd7630d"
      },
      "execution_count": 59,
      "outputs": [
        {
          "output_type": "stream",
          "name": "stdout",
          "text": [
            "       abc\n",
            "#######abc\n",
            "abc       \n",
            "abc*******\n",
            "\n",
            "\n",
            "def            \n",
            "defkkkkkkkkkkkk\n"
          ]
        }
      ]
    }
  ]
}